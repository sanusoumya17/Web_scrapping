{
 "cells": [
  {
   "cell_type": "code",
   "execution_count": 1,
   "metadata": {},
   "outputs": [],
   "source": [
    "import numpy as np     #To perform numerical observations\n",
    "import pandas as pd    #To work with dataframes\n",
    "\n",
    "#For Data Visualisation\n",
    "import matplotlib.pyplot as plt\n",
    "import seaborn as sns\n",
    "\n",
    "# To perform operations with date & time\n",
    "import datetime as dt"
   ]
  },
  {
   "cell_type": "code",
   "execution_count": 2,
   "metadata": {},
   "outputs": [],
   "source": [
    "#Importing the data\n",
    "udemy=pd.read_csv('udemy.csv')"
   ]
  },
  {
   "cell_type": "markdown",
   "metadata": {},
   "source": [
    "# Exploratory Data Analysis"
   ]
  },
  {
   "cell_type": "code",
   "execution_count": 3,
   "metadata": {
    "scrolled": true
   },
   "outputs": [
    {
     "data": {
      "text/html": [
       "<div>\n",
       "<style scoped>\n",
       "    .dataframe tbody tr th:only-of-type {\n",
       "        vertical-align: middle;\n",
       "    }\n",
       "\n",
       "    .dataframe tbody tr th {\n",
       "        vertical-align: top;\n",
       "    }\n",
       "\n",
       "    .dataframe thead th {\n",
       "        text-align: right;\n",
       "    }\n",
       "</style>\n",
       "<table border=\"1\" class=\"dataframe\">\n",
       "  <thead>\n",
       "    <tr style=\"text-align: right;\">\n",
       "      <th></th>\n",
       "      <th>Title</th>\n",
       "      <th>Url</th>\n",
       "      <th>Created_on</th>\n",
       "      <th>Published</th>\n",
       "      <th>Subscribers</th>\n",
       "      <th>Reviews</th>\n",
       "      <th>Rating</th>\n",
       "      <th>Price</th>\n",
       "      <th>Discounted_Price</th>\n",
       "    </tr>\n",
       "  </thead>\n",
       "  <tbody>\n",
       "    <tr>\n",
       "      <th>0</th>\n",
       "      <td>The Web Developer Bootcamp</td>\n",
       "      <td>/course/the-web-developer-bootcamp/</td>\n",
       "      <td>2015-09-28T21:32:19Z</td>\n",
       "      <td>2015-11-02T21:13:27Z</td>\n",
       "      <td>589105</td>\n",
       "      <td>180491</td>\n",
       "      <td>4.64928</td>\n",
       "      <td>8640</td>\n",
       "      <td>360</td>\n",
       "    </tr>\n",
       "    <tr>\n",
       "      <th>1</th>\n",
       "      <td>Machine Learning A-Z™: Hands-On Python &amp; R In ...</td>\n",
       "      <td>/course/machinelearning/</td>\n",
       "      <td>2016-09-05T09:54:22Z</td>\n",
       "      <td>2016-09-13T21:43:44Z</td>\n",
       "      <td>683343</td>\n",
       "      <td>129964</td>\n",
       "      <td>4.55240</td>\n",
       "      <td>8640</td>\n",
       "      <td>360</td>\n",
       "    </tr>\n",
       "    <tr>\n",
       "      <th>2</th>\n",
       "      <td>Angular - The Complete Guide (2020 Edition)</td>\n",
       "      <td>/course/the-complete-guide-to-angular-2/</td>\n",
       "      <td>2016-02-08T17:02:55Z</td>\n",
       "      <td>2016-02-11T07:29:29Z</td>\n",
       "      <td>414247</td>\n",
       "      <td>127686</td>\n",
       "      <td>4.58001</td>\n",
       "      <td>8640</td>\n",
       "      <td>360</td>\n",
       "    </tr>\n",
       "    <tr>\n",
       "      <th>3</th>\n",
       "      <td>2020 Complete Python Bootcamp: From Zero to He...</td>\n",
       "      <td>/course/complete-python-bootcamp/</td>\n",
       "      <td>2015-07-29T00:12:23Z</td>\n",
       "      <td>2015-10-12T21:42:53Z</td>\n",
       "      <td>1078402</td>\n",
       "      <td>310816</td>\n",
       "      <td>4.56345</td>\n",
       "      <td>8640</td>\n",
       "      <td>360</td>\n",
       "    </tr>\n",
       "    <tr>\n",
       "      <th>4</th>\n",
       "      <td>Java Programming Masterclass for Software Deve...</td>\n",
       "      <td>/course/java-the-complete-java-developer-course/</td>\n",
       "      <td>2015-06-21T20:25:56Z</td>\n",
       "      <td>2015-07-21T22:01:13Z</td>\n",
       "      <td>493389</td>\n",
       "      <td>121070</td>\n",
       "      <td>4.56419</td>\n",
       "      <td>8640</td>\n",
       "      <td>360</td>\n",
       "    </tr>\n",
       "  </tbody>\n",
       "</table>\n",
       "</div>"
      ],
      "text/plain": [
       "                                               Title  \\\n",
       "0                         The Web Developer Bootcamp   \n",
       "1  Machine Learning A-Z™: Hands-On Python & R In ...   \n",
       "2        Angular - The Complete Guide (2020 Edition)   \n",
       "3  2020 Complete Python Bootcamp: From Zero to He...   \n",
       "4  Java Programming Masterclass for Software Deve...   \n",
       "\n",
       "                                                Url            Created_on  \\\n",
       "0               /course/the-web-developer-bootcamp/  2015-09-28T21:32:19Z   \n",
       "1                          /course/machinelearning/  2016-09-05T09:54:22Z   \n",
       "2          /course/the-complete-guide-to-angular-2/  2016-02-08T17:02:55Z   \n",
       "3                 /course/complete-python-bootcamp/  2015-07-29T00:12:23Z   \n",
       "4  /course/java-the-complete-java-developer-course/  2015-06-21T20:25:56Z   \n",
       "\n",
       "              Published   Subscribers   Reviews   Rating   Price  \\\n",
       "0  2015-11-02T21:13:27Z        589105    180491  4.64928    8640   \n",
       "1  2016-09-13T21:43:44Z        683343    129964  4.55240    8640   \n",
       "2  2016-02-11T07:29:29Z        414247    127686  4.58001    8640   \n",
       "3  2015-10-12T21:42:53Z       1078402    310816  4.56345    8640   \n",
       "4  2015-07-21T22:01:13Z        493389    121070  4.56419    8640   \n",
       "\n",
       "   Discounted_Price  \n",
       "0               360  \n",
       "1               360  \n",
       "2               360  \n",
       "3               360  \n",
       "4               360  "
      ]
     },
     "execution_count": 3,
     "metadata": {},
     "output_type": "execute_result"
    }
   ],
   "source": [
    "udemy.head()"
   ]
  },
  {
   "cell_type": "code",
   "execution_count": 4,
   "metadata": {},
   "outputs": [
    {
     "data": {
      "text/html": [
       "<div>\n",
       "<style scoped>\n",
       "    .dataframe tbody tr th:only-of-type {\n",
       "        vertical-align: middle;\n",
       "    }\n",
       "\n",
       "    .dataframe tbody tr th {\n",
       "        vertical-align: top;\n",
       "    }\n",
       "\n",
       "    .dataframe thead th {\n",
       "        text-align: right;\n",
       "    }\n",
       "</style>\n",
       "<table border=\"1\" class=\"dataframe\">\n",
       "  <thead>\n",
       "    <tr style=\"text-align: right;\">\n",
       "      <th></th>\n",
       "      <th>Title</th>\n",
       "      <th>Url</th>\n",
       "      <th>Created_on</th>\n",
       "      <th>Published</th>\n",
       "      <th>Subscribers</th>\n",
       "      <th>Reviews</th>\n",
       "      <th>Rating</th>\n",
       "      <th>Price</th>\n",
       "      <th>Discounted_Price</th>\n",
       "    </tr>\n",
       "  </thead>\n",
       "  <tbody>\n",
       "    <tr>\n",
       "      <th>9995</th>\n",
       "      <td>JavaScript Game Exercise built from scratch Ca...</td>\n",
       "      <td>/course/javascript-game-exercise/</td>\n",
       "      <td>2018-04-12T16:52:20Z</td>\n",
       "      <td>2018-04-13T15:54:33Z</td>\n",
       "      <td>1609</td>\n",
       "      <td>8</td>\n",
       "      <td>4.48069</td>\n",
       "      <td>8640</td>\n",
       "      <td>360</td>\n",
       "    </tr>\n",
       "    <tr>\n",
       "      <th>9996</th>\n",
       "      <td>Learn Data Science with Python - Part 1: Pytho...</td>\n",
       "      <td>/course/learn-data-science-with-python-part-1-...</td>\n",
       "      <td>2019-08-05T19:16:26Z</td>\n",
       "      <td>2019-08-28T22:10:07Z</td>\n",
       "      <td>29</td>\n",
       "      <td>8</td>\n",
       "      <td>4.09243</td>\n",
       "      <td>1920</td>\n",
       "      <td>360</td>\n",
       "    </tr>\n",
       "    <tr>\n",
       "      <th>9997</th>\n",
       "      <td>Natural Language Apps &amp; Interactive Chatbots w...</td>\n",
       "      <td>/course/natural-language-apps-interactive-chat...</td>\n",
       "      <td>2019-04-17T07:44:12Z</td>\n",
       "      <td>2019-04-18T15:01:15Z</td>\n",
       "      <td>43</td>\n",
       "      <td>8</td>\n",
       "      <td>2.58979</td>\n",
       "      <td>8640</td>\n",
       "      <td>360</td>\n",
       "    </tr>\n",
       "    <tr>\n",
       "      <th>9998</th>\n",
       "      <td>Google Assistant development with Java &amp; Sprin...</td>\n",
       "      <td>/course/build-a-google-assistant-app-using-jav...</td>\n",
       "      <td>2020-04-08T16:42:17Z</td>\n",
       "      <td>2020-04-14T22:17:44Z</td>\n",
       "      <td>35</td>\n",
       "      <td>8</td>\n",
       "      <td>4.72260</td>\n",
       "      <td>7680</td>\n",
       "      <td>360</td>\n",
       "    </tr>\n",
       "    <tr>\n",
       "      <th>9999</th>\n",
       "      <td>WebAssembly Beginner to Advanced 2020</td>\n",
       "      <td>/course/webassembly/</td>\n",
       "      <td>2020-03-31T18:41:29Z</td>\n",
       "      <td>2020-04-09T23:25:34Z</td>\n",
       "      <td>81</td>\n",
       "      <td>8</td>\n",
       "      <td>3.97139</td>\n",
       "      <td>8640</td>\n",
       "      <td>360</td>\n",
       "    </tr>\n",
       "  </tbody>\n",
       "</table>\n",
       "</div>"
      ],
      "text/plain": [
       "                                                  Title  \\\n",
       "9995  JavaScript Game Exercise built from scratch Ca...   \n",
       "9996  Learn Data Science with Python - Part 1: Pytho...   \n",
       "9997  Natural Language Apps & Interactive Chatbots w...   \n",
       "9998  Google Assistant development with Java & Sprin...   \n",
       "9999              WebAssembly Beginner to Advanced 2020   \n",
       "\n",
       "                                                    Url            Created_on  \\\n",
       "9995                  /course/javascript-game-exercise/  2018-04-12T16:52:20Z   \n",
       "9996  /course/learn-data-science-with-python-part-1-...  2019-08-05T19:16:26Z   \n",
       "9997  /course/natural-language-apps-interactive-chat...  2019-04-17T07:44:12Z   \n",
       "9998  /course/build-a-google-assistant-app-using-jav...  2020-04-08T16:42:17Z   \n",
       "9999                               /course/webassembly/  2020-03-31T18:41:29Z   \n",
       "\n",
       "                 Published   Subscribers   Reviews   Rating   Price  \\\n",
       "9995  2018-04-13T15:54:33Z          1609         8  4.48069    8640   \n",
       "9996  2019-08-28T22:10:07Z            29         8  4.09243    1920   \n",
       "9997  2019-04-18T15:01:15Z            43         8  2.58979    8640   \n",
       "9998  2020-04-14T22:17:44Z            35         8  4.72260    7680   \n",
       "9999  2020-04-09T23:25:34Z            81         8  3.97139    8640   \n",
       "\n",
       "      Discounted_Price  \n",
       "9995               360  \n",
       "9996               360  \n",
       "9997               360  \n",
       "9998               360  \n",
       "9999               360  "
      ]
     },
     "execution_count": 4,
     "metadata": {},
     "output_type": "execute_result"
    }
   ],
   "source": [
    "udemy.tail()"
   ]
  },
  {
   "cell_type": "code",
   "execution_count": 5,
   "metadata": {},
   "outputs": [
    {
     "name": "stdout",
     "output_type": "stream",
     "text": [
      "<class 'pandas.core.frame.DataFrame'>\n",
      "RangeIndex: 10000 entries, 0 to 9999\n",
      "Data columns (total 9 columns):\n",
      " #   Column             Non-Null Count  Dtype  \n",
      "---  ------             --------------  -----  \n",
      " 0   Title              10000 non-null  object \n",
      " 1    Url               10000 non-null  object \n",
      " 2    Created_on        10000 non-null  object \n",
      " 3    Published         10000 non-null  object \n",
      " 4    Subscribers       10000 non-null  int64  \n",
      " 5    Reviews           10000 non-null  int64  \n",
      " 6    Rating            10000 non-null  float64\n",
      " 7    Price             10000 non-null  int64  \n",
      " 8    Discounted_Price  10000 non-null  object \n",
      "dtypes: float64(1), int64(3), object(5)\n",
      "memory usage: 703.2+ KB\n"
     ]
    }
   ],
   "source": [
    "udemy.info()"
   ]
  },
  {
   "cell_type": "markdown",
   "metadata": {},
   "source": [
    "There are 9 features and 10000 obervations.There are 4 quantitative features and 5 categorical feature.There are no missing values.\n",
    "\n",
    "Since, Discount_Price ideally should be a numeric value, we need to change its datatype."
   ]
  },
  {
   "cell_type": "code",
   "execution_count": 6,
   "metadata": {},
   "outputs": [
    {
     "name": "stdout",
     "output_type": "stream",
     "text": [
      "Index(['Title', ' Url', ' Created_on', ' Published', ' Subscribers',\n",
      "       ' Reviews', ' Rating', ' Price', ' Discounted_Price'],\n",
      "      dtype='object')\n"
     ]
    }
   ],
   "source": [
    "print(udemy.columns)"
   ]
  },
  {
   "cell_type": "code",
   "execution_count": 7,
   "metadata": {},
   "outputs": [],
   "source": [
    "udemy = udemy.rename(columns = {' Url':'Url',' Created_on':'Created_on', ' Published':'Published', ' Subscribers':'Subscribers',' Reviews':'Reviews', ' Rating':'Rating', ' Price':'Price', ' Discounted_Price':'Discounted_Price'})\n"
   ]
  },
  {
   "cell_type": "code",
   "execution_count": 8,
   "metadata": {},
   "outputs": [
    {
     "name": "stdout",
     "output_type": "stream",
     "text": [
      "['360', '370', '380', '365', '385', 'None', '375', '395', '700', '1600', '400', '560', '1760', '800', '3200', '1280', '2880', '1520', '2400', '480', '3120', '720', '1680', '1920', '880', '640', '960', '1120', '1360', '1440', '2320', '2800', '1200']\n"
     ]
    }
   ],
   "source": [
    "discount_list=list(udemy.Discounted_Price.unique())\n",
    "print(discount_list)"
   ]
  },
  {
   "cell_type": "markdown",
   "metadata": {},
   "source": [
    "We can see that the values are in str datatype, and due to presence of None we can't change its datatype directly."
   ]
  },
  {
   "cell_type": "code",
   "execution_count": 9,
   "metadata": {},
   "outputs": [],
   "source": [
    "udemy['Discounted_Price'].replace('None', '0', inplace=True) #Replacing None with 0"
   ]
  },
  {
   "cell_type": "code",
   "execution_count": 10,
   "metadata": {},
   "outputs": [],
   "source": [
    "# Changing datatype from object to int64\n",
    "udemy['Discounted_Price'] = np.dtype('int64').type(udemy['Discounted_Price'])"
   ]
  },
  {
   "cell_type": "code",
   "execution_count": 11,
   "metadata": {},
   "outputs": [
    {
     "name": "stdout",
     "output_type": "stream",
     "text": [
      "<class 'pandas.core.frame.DataFrame'>\n",
      "RangeIndex: 10000 entries, 0 to 9999\n",
      "Data columns (total 9 columns):\n",
      " #   Column            Non-Null Count  Dtype  \n",
      "---  ------            --------------  -----  \n",
      " 0   Title             10000 non-null  object \n",
      " 1   Url               10000 non-null  object \n",
      " 2   Created_on        10000 non-null  object \n",
      " 3   Published         10000 non-null  object \n",
      " 4   Subscribers       10000 non-null  int64  \n",
      " 5   Reviews           10000 non-null  int64  \n",
      " 6   Rating            10000 non-null  float64\n",
      " 7   Price             10000 non-null  int64  \n",
      " 8   Discounted_Price  10000 non-null  int64  \n",
      "dtypes: float64(1), int64(4), object(4)\n",
      "memory usage: 703.2+ KB\n"
     ]
    }
   ],
   "source": [
    "udemy.info()"
   ]
  },
  {
   "cell_type": "code",
   "execution_count": 12,
   "metadata": {},
   "outputs": [
    {
     "data": {
      "text/html": [
       "<div>\n",
       "<style scoped>\n",
       "    .dataframe tbody tr th:only-of-type {\n",
       "        vertical-align: middle;\n",
       "    }\n",
       "\n",
       "    .dataframe tbody tr th {\n",
       "        vertical-align: top;\n",
       "    }\n",
       "\n",
       "    .dataframe thead th {\n",
       "        text-align: right;\n",
       "    }\n",
       "</style>\n",
       "<table border=\"1\" class=\"dataframe\">\n",
       "  <thead>\n",
       "    <tr style=\"text-align: right;\">\n",
       "      <th></th>\n",
       "      <th>Subscribers</th>\n",
       "      <th>Reviews</th>\n",
       "      <th>Rating</th>\n",
       "      <th>Price</th>\n",
       "      <th>Discounted_Price</th>\n",
       "    </tr>\n",
       "  </thead>\n",
       "  <tbody>\n",
       "    <tr>\n",
       "      <th>count</th>\n",
       "      <td>1.000000e+04</td>\n",
       "      <td>10000.000000</td>\n",
       "      <td>10000.000000</td>\n",
       "      <td>10000.000000</td>\n",
       "      <td>10000.00000</td>\n",
       "    </tr>\n",
       "    <tr>\n",
       "      <th>mean</th>\n",
       "      <td>7.318643e+03</td>\n",
       "      <td>673.952800</td>\n",
       "      <td>4.051049</td>\n",
       "      <td>5267.968000</td>\n",
       "      <td>367.86950</td>\n",
       "    </tr>\n",
       "    <tr>\n",
       "      <th>std</th>\n",
       "      <td>2.549976e+04</td>\n",
       "      <td>5370.766997</td>\n",
       "      <td>0.526324</td>\n",
       "      <td>3110.644197</td>\n",
       "      <td>173.19666</td>\n",
       "    </tr>\n",
       "    <tr>\n",
       "      <th>min</th>\n",
       "      <td>1.800000e+01</td>\n",
       "      <td>8.000000</td>\n",
       "      <td>1.332520</td>\n",
       "      <td>1280.000000</td>\n",
       "      <td>0.00000</td>\n",
       "    </tr>\n",
       "    <tr>\n",
       "      <th>25%</th>\n",
       "      <td>3.737500e+02</td>\n",
       "      <td>23.000000</td>\n",
       "      <td>3.770620</td>\n",
       "      <td>1600.000000</td>\n",
       "      <td>360.00000</td>\n",
       "    </tr>\n",
       "    <tr>\n",
       "      <th>50%</th>\n",
       "      <td>1.707000e+03</td>\n",
       "      <td>59.000000</td>\n",
       "      <td>4.158145</td>\n",
       "      <td>6080.000000</td>\n",
       "      <td>360.00000</td>\n",
       "    </tr>\n",
       "    <tr>\n",
       "      <th>75%</th>\n",
       "      <td>5.603750e+03</td>\n",
       "      <td>208.000000</td>\n",
       "      <td>4.436117</td>\n",
       "      <td>8640.000000</td>\n",
       "      <td>360.00000</td>\n",
       "    </tr>\n",
       "    <tr>\n",
       "      <th>max</th>\n",
       "      <td>1.078402e+06</td>\n",
       "      <td>310816.000000</td>\n",
       "      <td>5.000000</td>\n",
       "      <td>12800.000000</td>\n",
       "      <td>3200.00000</td>\n",
       "    </tr>\n",
       "  </tbody>\n",
       "</table>\n",
       "</div>"
      ],
      "text/plain": [
       "        Subscribers        Reviews        Rating         Price  \\\n",
       "count  1.000000e+04   10000.000000  10000.000000  10000.000000   \n",
       "mean   7.318643e+03     673.952800      4.051049   5267.968000   \n",
       "std    2.549976e+04    5370.766997      0.526324   3110.644197   \n",
       "min    1.800000e+01       8.000000      1.332520   1280.000000   \n",
       "25%    3.737500e+02      23.000000      3.770620   1600.000000   \n",
       "50%    1.707000e+03      59.000000      4.158145   6080.000000   \n",
       "75%    5.603750e+03     208.000000      4.436117   8640.000000   \n",
       "max    1.078402e+06  310816.000000      5.000000  12800.000000   \n",
       "\n",
       "       Discounted_Price  \n",
       "count       10000.00000  \n",
       "mean          367.86950  \n",
       "std           173.19666  \n",
       "min             0.00000  \n",
       "25%           360.00000  \n",
       "50%           360.00000  \n",
       "75%           360.00000  \n",
       "max          3200.00000  "
      ]
     },
     "execution_count": 12,
     "metadata": {},
     "output_type": "execute_result"
    }
   ],
   "source": [
    "udemy.describe()"
   ]
  },
  {
   "cell_type": "code",
   "execution_count": 13,
   "metadata": {},
   "outputs": [
    {
     "name": "stdout",
     "output_type": "stream",
     "text": [
      "Title               0.0\n",
      "Url                 0.0\n",
      "Created_on          0.0\n",
      "Published           0.0\n",
      "Subscribers         0.0\n",
      "Reviews             0.0\n",
      "Rating              0.0\n",
      "Price               0.0\n",
      "Discounted_Price    0.0\n",
      "dtype: float64\n"
     ]
    }
   ],
   "source": [
    "miss_val_per=udemy.isnull().mean()*100\n",
    "print(miss_val_per)"
   ]
  },
  {
   "cell_type": "code",
   "execution_count": 14,
   "metadata": {},
   "outputs": [
    {
     "name": "stdout",
     "output_type": "stream",
     "text": [
      "Data Row: 10000\n",
      "Data Columns: 9\n"
     ]
    }
   ],
   "source": [
    "row, columns = udemy.shape\n",
    "print(\"Data Row:\", row)\n",
    "print(\"Data Columns:\", columns)"
   ]
  },
  {
   "cell_type": "code",
   "execution_count": 15,
   "metadata": {},
   "outputs": [
    {
     "data": {
      "text/html": [
       "<div>\n",
       "<style scoped>\n",
       "    .dataframe tbody tr th:only-of-type {\n",
       "        vertical-align: middle;\n",
       "    }\n",
       "\n",
       "    .dataframe tbody tr th {\n",
       "        vertical-align: top;\n",
       "    }\n",
       "\n",
       "    .dataframe thead th {\n",
       "        text-align: right;\n",
       "    }\n",
       "</style>\n",
       "<table border=\"1\" class=\"dataframe\">\n",
       "  <thead>\n",
       "    <tr style=\"text-align: right;\">\n",
       "      <th></th>\n",
       "      <th>Title</th>\n",
       "      <th>Url</th>\n",
       "      <th>Created_on</th>\n",
       "      <th>Published</th>\n",
       "    </tr>\n",
       "  </thead>\n",
       "  <tbody>\n",
       "    <tr>\n",
       "      <th>count</th>\n",
       "      <td>10000</td>\n",
       "      <td>10000</td>\n",
       "      <td>10000</td>\n",
       "      <td>10000</td>\n",
       "    </tr>\n",
       "    <tr>\n",
       "      <th>unique</th>\n",
       "      <td>9719</td>\n",
       "      <td>9757</td>\n",
       "      <td>9755</td>\n",
       "      <td>9756</td>\n",
       "    </tr>\n",
       "    <tr>\n",
       "      <th>top</th>\n",
       "      <td>Build Responsive Real World Websites with HTML...</td>\n",
       "      <td>/course/basicsofr/</td>\n",
       "      <td>2018-11-07T17:15:49Z</td>\n",
       "      <td>2018-03-05T21:20:23Z</td>\n",
       "    </tr>\n",
       "    <tr>\n",
       "      <th>freq</th>\n",
       "      <td>3</td>\n",
       "      <td>2</td>\n",
       "      <td>2</td>\n",
       "      <td>2</td>\n",
       "    </tr>\n",
       "  </tbody>\n",
       "</table>\n",
       "</div>"
      ],
      "text/plain": [
       "                                                    Title                 Url  \\\n",
       "count                                               10000               10000   \n",
       "unique                                               9719                9757   \n",
       "top     Build Responsive Real World Websites with HTML...  /course/basicsofr/   \n",
       "freq                                                    3                   2   \n",
       "\n",
       "                  Created_on             Published  \n",
       "count                  10000                 10000  \n",
       "unique                  9755                  9756  \n",
       "top     2018-11-07T17:15:49Z  2018-03-05T21:20:23Z  \n",
       "freq                       2                     2  "
      ]
     },
     "execution_count": 15,
     "metadata": {},
     "output_type": "execute_result"
    }
   ],
   "source": [
    "udemy.describe(include='O')"
   ]
  },
  {
   "cell_type": "code",
   "execution_count": 16,
   "metadata": {
    "scrolled": true
   },
   "outputs": [
    {
     "data": {
      "text/plain": [
       "<matplotlib.axes._subplots.AxesSubplot at 0x1fcd2485a00>"
      ]
     },
     "execution_count": 16,
     "metadata": {},
     "output_type": "execute_result"
    },
    {
     "data": {
      "image/png": "[encoded data removed]",
      "text/plain": [
       "<Figure size 432x288 with 2 Axes>"
      ]
     },
     "metadata": {
      "needs_background": "light"
     },
     "output_type": "display_data"
    }
   ],
   "source": [
    "sns.heatmap(udemy.corr(),annot=True,square=True)"
   ]
  },
  {
   "cell_type": "markdown",
   "metadata": {},
   "source": [
    "We can interpret that Reviews and Subscribers are positively correlated."
   ]
  },
  {
   "cell_type": "code",
   "execution_count": 17,
   "metadata": {},
   "outputs": [
    {
     "data": {
      "text/plain": [
       "<matplotlib.axes._subplots.AxesSubplot at 0x1fcd25b5550>"
      ]
     },
     "execution_count": 17,
     "metadata": {},
     "output_type": "execute_result"
    },
    {
     "data": {
      "image/png": "[encoded data removed]",
      "text/plain": [
       "<Figure size 432x288 with 1 Axes>"
      ]
     },
     "metadata": {
      "needs_background": "light"
     },
     "output_type": "display_data"
    }
   ],
   "source": [
    "sns.kdeplot(data=udemy['Price'], label='Price', shade=True)"
   ]
  },
  {
   "cell_type": "code",
   "execution_count": 18,
   "metadata": {},
   "outputs": [
    {
     "name": "stdout",
     "output_type": "stream",
     "text": [
      "                                                Title  Subscribers\n",
      "3   2020 Complete Python Bootcamp: From Zero to He...      1078402\n",
      "1   Machine Learning A-Z™: Hands-On Python & R In ...       683343\n",
      "11  Automate the Boring Stuff with Python Programming       658462\n",
      "0                          The Web Developer Bootcamp       589105\n",
      "4   Java Programming Masterclass for Software Deve...       493389\n",
      "56  The Complete Python 3 Course: Beginner to Adva...       462390\n",
      "2         Angular - The Complete Guide (2020 Edition)       414247\n",
      "6   Python for Data Science and Machine Learning B...       379836\n",
      "9                 Complete C# Unity Game Developer 2D       361310\n",
      "7   The Complete JavaScript Course 2020: Build Rea...       340221\n"
     ]
    }
   ],
   "source": [
    "top_subs = udemy[['Title','Subscribers']].sort_values(by='Subscribers', ascending=False).head(10)\n",
    "print(top_subs)"
   ]
  },
  {
   "cell_type": "code",
   "execution_count": 19,
   "metadata": {},
   "outputs": [
    {
     "data": {
      "text/plain": [
       "Text(0.5, 1.0, 'POPULAR COURSES ACCORDING TO SUBSCIPTION')"
      ]
     },
     "execution_count": 19,
     "metadata": {},
     "output_type": "execute_result"
    },
    {
     "data": {
      "image/png": "[encoded data removed]",
      "text/plain": [
       "<Figure size 1080x720 with 1 Axes>"
      ]
     },
     "metadata": {
      "needs_background": "light"
     },
     "output_type": "display_data"
    }
   ],
   "source": [
    "y=top_subs['Title'].values\n",
    "x=top_subs['Subscribers'].values\n",
    "plt.figure(figsize=(15,10))\n",
    "sns.barplot(x,y,palette='Blues_d')\n",
    "plt.xlabel('Subscribers')\n",
    "plt.ylabel('Course')\n",
    "plt.title('POPULAR COURSES ACCORDING TO SUBSCIPTION')"
   ]
  },
  {
   "cell_type": "code",
   "execution_count": 20,
   "metadata": {},
   "outputs": [
    {
     "name": "stdout",
     "output_type": "stream",
     "text": [
      "                                               Title  Reviews\n",
      "3  2020 Complete Python Bootcamp: From Zero to He...   310816\n",
      "0                         The Web Developer Bootcamp   180491\n",
      "1  Machine Learning A-Z™: Hands-On Python & R In ...   129964\n",
      "2        Angular - The Complete Guide (2020 Edition)   127686\n",
      "4  Java Programming Masterclass for Software Deve...   121070\n",
      "5  React - The Complete Guide (incl Hooks React R...    87677\n",
      "6  Python for Data Science and Machine Learning B...    85213\n",
      "8         The Complete 2020 Web Development Bootcamp    81429\n",
      "7  The Complete JavaScript Course 2020: Build Rea...    81331\n",
      "9                Complete C# Unity Game Developer 2D    77893\n"
     ]
    }
   ],
   "source": [
    "top_reviews = udemy[['Title','Reviews']].sort_values(by='Reviews', ascending=False).head(10)\n",
    "print(top_reviews)"
   ]
  },
  {
   "cell_type": "code",
   "execution_count": 21,
   "metadata": {},
   "outputs": [
    {
     "data": {
      "text/plain": [
       "Text(0.5, 1.0, 'POPULAR COURSES ACCORDING TO REVIEWS')"
      ]
     },
     "execution_count": 21,
     "metadata": {},
     "output_type": "execute_result"
    },
    {
     "data": {
      "image/png": "[encoded data removed]",
      "text/plain": [
       "<Figure size 1080x720 with 1 Axes>"
      ]
     },
     "metadata": {
      "needs_background": "light"
     },
     "output_type": "display_data"
    }
   ],
   "source": [
    "y=top_reviews['Title'].values\n",
    "x=top_reviews['Reviews'].values\n",
    "plt.figure(figsize=(15,10))\n",
    "sns.barplot(x,y,palette='Reds_d')\n",
    "plt.xlabel('Reviews')\n",
    "plt.ylabel('Course')\n",
    "plt.title('POPULAR COURSES ACCORDING TO REVIEWS')"
   ]
  },
  {
   "cell_type": "code",
   "execution_count": 23,
   "metadata": {},
   "outputs": [
    {
     "data": {
      "text/html": [
       "<div>\n",
       "<style scoped>\n",
       "    .dataframe tbody tr th:only-of-type {\n",
       "        vertical-align: middle;\n",
       "    }\n",
       "\n",
       "    .dataframe tbody tr th {\n",
       "        vertical-align: top;\n",
       "    }\n",
       "\n",
       "    .dataframe thead th {\n",
       "        text-align: right;\n",
       "    }\n",
       "</style>\n",
       "<table border=\"1\" class=\"dataframe\">\n",
       "  <thead>\n",
       "    <tr style=\"text-align: right;\">\n",
       "      <th></th>\n",
       "      <th>Subscribers</th>\n",
       "      <th>Reviews</th>\n",
       "    </tr>\n",
       "    <tr>\n",
       "      <th>Title</th>\n",
       "      <th></th>\n",
       "      <th></th>\n",
       "    </tr>\n",
       "  </thead>\n",
       "  <tbody>\n",
       "    <tr>\n",
       "      <th>2020 Complete Python Bootcamp: From Zero to Hero in Python</th>\n",
       "      <td>1078402</td>\n",
       "      <td>310816</td>\n",
       "    </tr>\n",
       "    <tr>\n",
       "      <th>The Web Developer Bootcamp</th>\n",
       "      <td>589105</td>\n",
       "      <td>180491</td>\n",
       "    </tr>\n",
       "    <tr>\n",
       "      <th>Machine Learning A-Z™: Hands-On Python &amp; R In Data Science</th>\n",
       "      <td>683343</td>\n",
       "      <td>129964</td>\n",
       "    </tr>\n",
       "    <tr>\n",
       "      <th>Angular - The Complete Guide (2020 Edition)</th>\n",
       "      <td>414247</td>\n",
       "      <td>127686</td>\n",
       "    </tr>\n",
       "    <tr>\n",
       "      <th>Java Programming Masterclass for Software Developers</th>\n",
       "      <td>493389</td>\n",
       "      <td>121070</td>\n",
       "    </tr>\n",
       "    <tr>\n",
       "      <th>React - The Complete Guide (incl Hooks React Router Redux)</th>\n",
       "      <td>294927</td>\n",
       "      <td>87677</td>\n",
       "    </tr>\n",
       "    <tr>\n",
       "      <th>Python for Data Science and Machine Learning Bootcamp</th>\n",
       "      <td>379836</td>\n",
       "      <td>85213</td>\n",
       "    </tr>\n",
       "    <tr>\n",
       "      <th>The Complete 2020 Web Development Bootcamp</th>\n",
       "      <td>253974</td>\n",
       "      <td>81429</td>\n",
       "    </tr>\n",
       "    <tr>\n",
       "      <th>The Complete JavaScript Course 2020: Build Real Projects!</th>\n",
       "      <td>340221</td>\n",
       "      <td>81331</td>\n",
       "    </tr>\n",
       "    <tr>\n",
       "      <th>Complete C# Unity Game Developer 2D</th>\n",
       "      <td>361310</td>\n",
       "      <td>77893</td>\n",
       "    </tr>\n",
       "  </tbody>\n",
       "</table>\n",
       "</div>"
      ],
      "text/plain": [
       "                                                    Subscribers  Reviews\n",
       "Title                                                                   \n",
       "2020 Complete Python Bootcamp: From Zero to Her...      1078402   310816\n",
       "The Web Developer Bootcamp                               589105   180491\n",
       "Machine Learning A-Z™: Hands-On Python & R In D...       683343   129964\n",
       "Angular - The Complete Guide (2020 Edition)              414247   127686\n",
       "Java Programming Masterclass for Software Devel...       493389   121070\n",
       "React - The Complete Guide (incl Hooks React Ro...       294927    87677\n",
       "Python for Data Science and Machine Learning Bo...       379836    85213\n",
       "The Complete 2020 Web Development Bootcamp               253974    81429\n",
       "The Complete JavaScript Course 2020: Build Real...       340221    81331\n",
       "Complete C# Unity Game Developer 2D                      361310    77893"
      ]
     },
     "execution_count": 23,
     "metadata": {},
     "output_type": "execute_result"
    }
   ],
   "source": [
    "(udemy.groupby(\"Title\")[[\"Subscribers\", \"Reviews\"]].sum().sort_values(\"Reviews\", ascending= False)).head(10)"
   ]
  },
  {
   "cell_type": "markdown",
   "metadata": {},
   "source": [
    "As the number one course is \"2020 Complete Python Bootcamp: From Zero to Hero in Python\" according to both \"Subcribers\" & \"Reviews\". Thus, number of reviews influences a prospective customer's decision to by the course."
   ]
  },
  {
   "cell_type": "code",
   "execution_count": 24,
   "metadata": {},
   "outputs": [
    {
     "name": "stdout",
     "output_type": "stream",
     "text": [
      "                                                  Title   Rating\n",
      "5973  Elementor -  Make Amazing WordPress Pages With...  5.00000\n",
      "9840  iOS 7 Option Screens for UIView or Sprite Kit ...  5.00000\n",
      "7027      Create IOS Applications Using Parse and Swift  5.00000\n",
      "3410     Build Instagram to Master Swift 4 and Firebase  5.00000\n",
      "3426               Build awesome web apps using Angular  5.00000\n",
      "9295  Python Practice Test MCQ Certified: Go from 0 ...  5.00000\n",
      "1933  Personnel Success: Life Purpose/ Goal Achievem...  5.00000\n",
      "6607  Fullstack Node.js and Express Bootcamp with Re...  5.00000\n",
      "9675  Develop A Covid-19 Live Web App With Python Dj...  5.00000\n",
      "9793     Game Audio 101: How to Create Sounds for Games  4.98549\n",
      "9790     Game Audio 101: How to Create Sounds for Games  4.98549\n",
      "4980  The Complete Guide to the Best 200 WordPress P...  4.98477\n",
      "7591  Python 3 Network Programming (Sequel) - Build ...  4.97053\n",
      "7747  Byte-Sized-Chunks: Stacks Queues Binary Trees ...  4.97018\n",
      "9007  SQL database foundation: what your employer ex...  4.95981\n",
      "9009  SQL database foundation: what your employer ex...  4.95981\n",
      "9688  javascript Complete Real time - Essential Cour...  4.95941\n",
      "7569                  Godot Getaway: The Blender Course  4.95896\n",
      "9865  Unreal Engine 4: Make a Multiplayer First Pers...  4.95015\n",
      "8437   Exploring Alexa Voice Services and Alexa Gadgets  4.94268\n"
     ]
    }
   ],
   "source": [
    "top_rating = udemy[['Title','Rating']].sort_values(by='Rating', ascending=False).head(20)\n",
    "print(top_rating)"
   ]
  },
  {
   "cell_type": "code",
   "execution_count": 25,
   "metadata": {
    "scrolled": true
   },
   "outputs": [
    {
     "name": "stdout",
     "output_type": "stream",
     "text": [
      "                                                  Title  Price\n",
      "8538  How to Become a Software QA Tester. Roman Savi...  12800\n",
      "9401                                 Coding Foundations  12800\n",
      "6517      Learn SQL From Scratch No Experience Required  12800\n",
      "2814  Complete In & Out Of Ethereum Blockchain Solid...  12800\n",
      "9938  RPA Developer Training & Certification - Autom...  12800\n",
      "3780    IBM Datastage For Administrators and Developers  12800\n",
      "6834  Salesforce Lightning Components Development Tu...  12800\n",
      "6455  Modern Artificial Intelligence Masterclass: Bu...  12800\n",
      "4601             Intro to Coding: HTML CSS & JavaScript  12800\n",
      "1974  PyTorch: Deep Learning and Artificial Intellig...  12800\n",
      "1205   Complete Guide To Making Apps: 250000+ Downloads  12480\n",
      "1023  Full stack Universal React with Redux Node js ...  12480\n",
      "8571  Learn Basic Microsoft Razor with JQuery and Vi...  11200\n",
      "6800  Learn JavaScript Through Microsoft Visual Stud...  10880\n",
      "6796  Learn JavaScript Through Microsoft Visual Stud...  10880\n",
      "9834  Siemens Simatic Step 7 TIA Portal - Order COUP...  10880\n",
      "9917  Unreal Engine 4 - Multiplayer Team Based FPS I...   9600\n",
      "3508                  Learn Python Programming Language   9600\n",
      "8943                 Wordpress for Non-Technical People   9600\n",
      "492   The Complete iOS 12 & Swift Developer Course -...   9600\n"
     ]
    }
   ],
   "source": [
    "top_price = udemy[['Title','Price']].sort_values(by='Price', ascending=False).head(20)\n",
    "print(top_price)"
   ]
  },
  {
   "cell_type": "markdown",
   "metadata": {},
   "source": [
    "# Relationship between numerical columns"
   ]
  },
  {
   "cell_type": "code",
   "execution_count": 26,
   "metadata": {},
   "outputs": [
    {
     "data": {
      "image/png": "[encoded data removed]",
      "text/plain": [
       "<Figure size 432x288 with 1 Axes>"
      ]
     },
     "metadata": {
      "needs_background": "light"
     },
     "output_type": "display_data"
    }
   ],
   "source": [
    "udemy.plot(kind = 'scatter', x = 'Price', y = 'Subscribers', color = 'pink')\n",
    "plt.xlabel('Price')\n",
    "plt.ylabel('Subscribers')\n",
    "plt.show()"
   ]
  },
  {
   "cell_type": "code",
   "execution_count": 27,
   "metadata": {},
   "outputs": [
    {
     "data": {
      "image/png": "[encoded data removed]",
      "text/plain": [
       "<Figure size 432x288 with 1 Axes>"
      ]
     },
     "metadata": {
      "needs_background": "light"
     },
     "output_type": "display_data"
    }
   ],
   "source": [
    "udemy.plot(kind = 'scatter', x = 'Reviews', y = 'Subscribers', color = 'red')\n",
    "plt.xlabel('Reviews')\n",
    "plt.ylabel('Subscribers')\n",
    "plt.show()"
   ]
  },
  {
   "cell_type": "code",
   "execution_count": 28,
   "metadata": {},
   "outputs": [
    {
     "data": {
      "image/png": "[encoded data removed]",
      "text/plain": [
       "<Figure size 432x288 with 1 Axes>"
      ]
     },
     "metadata": {
      "needs_background": "light"
     },
     "output_type": "display_data"
    }
   ],
   "source": [
    "udemy.plot(kind = 'scatter', x = 'Rating', y = 'Subscribers', color = 'blue')\n",
    "plt.xlabel('Rating')\n",
    "plt.ylabel('Subscribers')\n",
    "plt.show()"
   ]
  },
  {
   "cell_type": "code",
   "execution_count": 29,
   "metadata": {},
   "outputs": [
    {
     "data": {
      "image/png": "[encoded data removed]",
      "text/plain": [
       "<Figure size 432x288 with 1 Axes>"
      ]
     },
     "metadata": {
      "needs_background": "light"
     },
     "output_type": "display_data"
    }
   ],
   "source": [
    "udemy.plot(kind = 'scatter', x = 'Rating', y = 'Reviews', color = 'blue')\n",
    "plt.xlabel('Rating')\n",
    "plt.ylabel('Reviews')\n",
    "plt.show()"
   ]
  },
  {
   "cell_type": "code",
   "execution_count": 30,
   "metadata": {},
   "outputs": [],
   "source": [
    "udemy0=udemy.copy()\n",
    "udemy0['Published'] = pd.to_datetime(udemy['Published'])\n",
    "udemy0['Published_date'] = udemy0['Published'].dt.date\n",
    "udemy0['Published_year'] = pd.DatetimeIndex(udemy0['Published']).year"
   ]
  },
  {
   "cell_type": "code",
   "execution_count": 31,
   "metadata": {},
   "outputs": [
    {
     "data": {
      "text/html": [
       "<div>\n",
       "<style scoped>\n",
       "    .dataframe tbody tr th:only-of-type {\n",
       "        vertical-align: middle;\n",
       "    }\n",
       "\n",
       "    .dataframe tbody tr th {\n",
       "        vertical-align: top;\n",
       "    }\n",
       "\n",
       "    .dataframe thead th {\n",
       "        text-align: right;\n",
       "    }\n",
       "</style>\n",
       "<table border=\"1\" class=\"dataframe\">\n",
       "  <thead>\n",
       "    <tr style=\"text-align: right;\">\n",
       "      <th></th>\n",
       "      <th>Title</th>\n",
       "    </tr>\n",
       "    <tr>\n",
       "      <th>Published_year</th>\n",
       "      <th></th>\n",
       "    </tr>\n",
       "  </thead>\n",
       "  <tbody>\n",
       "    <tr>\n",
       "      <th>2011</th>\n",
       "      <td>15</td>\n",
       "    </tr>\n",
       "    <tr>\n",
       "      <th>2012</th>\n",
       "      <td>55</td>\n",
       "    </tr>\n",
       "    <tr>\n",
       "      <th>2013</th>\n",
       "      <td>217</td>\n",
       "    </tr>\n",
       "    <tr>\n",
       "      <th>2014</th>\n",
       "      <td>422</td>\n",
       "    </tr>\n",
       "    <tr>\n",
       "      <th>2015</th>\n",
       "      <td>875</td>\n",
       "    </tr>\n",
       "    <tr>\n",
       "      <th>2016</th>\n",
       "      <td>1251</td>\n",
       "    </tr>\n",
       "    <tr>\n",
       "      <th>2017</th>\n",
       "      <td>1730</td>\n",
       "    </tr>\n",
       "    <tr>\n",
       "      <th>2018</th>\n",
       "      <td>2378</td>\n",
       "    </tr>\n",
       "    <tr>\n",
       "      <th>2019</th>\n",
       "      <td>2000</td>\n",
       "    </tr>\n",
       "    <tr>\n",
       "      <th>2020</th>\n",
       "      <td>1057</td>\n",
       "    </tr>\n",
       "  </tbody>\n",
       "</table>\n",
       "</div>"
      ],
      "text/plain": [
       "                Title\n",
       "Published_year       \n",
       "2011               15\n",
       "2012               55\n",
       "2013              217\n",
       "2014              422\n",
       "2015              875\n",
       "2016             1251\n",
       "2017             1730\n",
       "2018             2378\n",
       "2019             2000\n",
       "2020             1057"
      ]
     },
     "execution_count": 31,
     "metadata": {},
     "output_type": "execute_result"
    }
   ],
   "source": [
    "udemy0[['Published_year','Title']].groupby(['Published_year']).count()"
   ]
  },
  {
   "cell_type": "code",
   "execution_count": 32,
   "metadata": {},
   "outputs": [
    {
     "data": {
      "image/png": "[encoded data removed]",
      "text/plain": [
       "<Figure size 648x288 with 1 Axes>"
      ]
     },
     "metadata": {
      "needs_background": "light"
     },
     "output_type": "display_data"
    }
   ],
   "source": [
    "plt.figure(figsize = (9,4))\n",
    "sns.countplot(data = udemy0, x = 'Published_year')\n",
    "plt.show()"
   ]
  }
 ],
 "metadata": {
  "kernelspec": {
   "display_name": "Python 3",
   "language": "python",
   "name": "python3"
  },
  "language_info": {
   "codemirror_mode": {
    "name": "ipython",
    "version": 3
   },
   "file_extension": ".py",
   "mimetype": "text/x-python",
   "name": "python",
   "nbconvert_exporter": "python",
   "pygments_lexer": "ipython3",
   "version": "3.8.3"
  }
 },
 "nbformat": 4,
 "nbformat_minor": 4
}
